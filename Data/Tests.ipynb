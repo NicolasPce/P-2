{
 "cells": [
  {
   "cell_type": "code",
   "execution_count": 51,
   "id": "68f1c173",
   "metadata": {},
   "outputs": [],
   "source": [
    "import json\n",
    "import requests\n",
    "import pandas as pd\n",
    "\n",
    "from bs4 import BeautifulSoup\n",
    "import seaborn as sns\n",
    "import matplotlib.pylab as plt\n",
    "\n"
   ]
  },
  {
   "cell_type": "code",
   "execution_count": 52,
   "id": "35bbda34",
   "metadata": {},
   "outputs": [],
   "source": [
    "import os\n",
    "from dotenv import load_dotenv"
   ]
  },
  {
   "cell_type": "code",
   "execution_count": 53,
   "id": "4a1de8f6",
   "metadata": {},
   "outputs": [],
   "source": [
    "url_liga='https://es.wikipedia.org/wiki/Primera_División_de_España_2021-22'\n",
    "html_liga = requests.get(url_liga)"
   ]
  },
  {
   "cell_type": "code",
   "execution_count": 54,
   "id": "277d4f25",
   "metadata": {},
   "outputs": [],
   "source": [
    "#soup\n",
    "soup_liga = BeautifulSoup(html_liga.content, \"html.parser\")"
   ]
  },
  {
   "cell_type": "code",
   "execution_count": 55,
   "id": "cae5e408",
   "metadata": {},
   "outputs": [],
   "source": [
    "liga = soup_liga.findAll(\"table\")[-52]"
   ]
  },
  {
   "cell_type": "code",
   "execution_count": 56,
   "id": "4b90111b",
   "metadata": {},
   "outputs": [],
   "source": [
    "def clasif(x):\n",
    "    ligaesp = []\n",
    "    for f in x.find_all(\"tr\"): \n",
    "        fila = [elemento for elemento in f.find_all(\"td\")] \n",
    "        if len(fila) > 1:\n",
    "            diccionario_2 = {\"Equipo\": fila[0].text,\n",
    "                          \"Puntos\":int(fila[1].text)}\n",
    "            ligaesp.append(diccionario_2)\n",
    "    laliga1 = pd.DataFrame(ligaesp)        \n",
    "    return laliga1"
   ]
  },
  {
   "cell_type": "code",
   "execution_count": 57,
   "id": "98562204",
   "metadata": {},
   "outputs": [
    {
     "data": {
      "text/html": [
       "<div>\n",
       "<style scoped>\n",
       "    .dataframe tbody tr th:only-of-type {\n",
       "        vertical-align: middle;\n",
       "    }\n",
       "\n",
       "    .dataframe tbody tr th {\n",
       "        vertical-align: top;\n",
       "    }\n",
       "\n",
       "    .dataframe thead th {\n",
       "        text-align: right;\n",
       "    }\n",
       "</style>\n",
       "<table border=\"1\" class=\"dataframe\">\n",
       "  <thead>\n",
       "    <tr style=\"text-align: right;\">\n",
       "      <th></th>\n",
       "      <th>Equipo</th>\n",
       "      <th>Puntos</th>\n",
       "    </tr>\n",
       "  </thead>\n",
       "  <tbody>\n",
       "    <tr>\n",
       "      <th>0</th>\n",
       "      <td>Real Sociedad\\n</td>\n",
       "      <td>28</td>\n",
       "    </tr>\n",
       "    <tr>\n",
       "      <th>1</th>\n",
       "      <td>Real Madrid C. F.\\n</td>\n",
       "      <td>27</td>\n",
       "    </tr>\n",
       "    <tr>\n",
       "      <th>2</th>\n",
       "      <td>Sevilla F. C.\\n</td>\n",
       "      <td>27</td>\n",
       "    </tr>\n",
       "    <tr>\n",
       "      <th>3</th>\n",
       "      <td>Atlético de Madrid\\n</td>\n",
       "      <td>23</td>\n",
       "    </tr>\n",
       "    <tr>\n",
       "      <th>4</th>\n",
       "      <td>Real Betis Balompié\\n</td>\n",
       "      <td>21</td>\n",
       "    </tr>\n",
       "  </tbody>\n",
       "</table>\n",
       "</div>"
      ],
      "text/plain": [
       "                  Equipo  Puntos\n",
       "0        Real Sociedad\\n      28\n",
       "1    Real Madrid C. F.\\n      27\n",
       "2        Sevilla F. C.\\n      27\n",
       "3   Atlético de Madrid\\n      23\n",
       "4  Real Betis Balompié\\n      21"
      ]
     },
     "execution_count": 57,
     "metadata": {},
     "output_type": "execute_result"
    }
   ],
   "source": [
    "laliga = clasif(liga)\n",
    "laliga.head()"
   ]
  },
  {
   "cell_type": "code",
   "execution_count": 16,
   "id": "24beca74",
   "metadata": {},
   "outputs": [],
   "source": [
    "ligaesp = []\n",
    "for f in liga.find_all(\"tr\"): #LISTA CON LAS FILAS DE LA TABLA\n",
    "    fila = [elemento for elemento in f.find_all(\"td\")] # ELEMENTOS DENTRO DE CADA FILA\n",
    "    if len(fila) > 1:\n",
    "        diccionario_2 = {\"Equipo\": fila[0].text,\n",
    "                      \"Puntos\":int(fila[1].text)}\n",
    "        ligaesp.append(diccionario_2)"
   ]
  },
  {
   "cell_type": "code",
   "execution_count": 17,
   "id": "61cdb35b",
   "metadata": {},
   "outputs": [],
   "source": [
    "laliga = pd.DataFrame(ligaesp)"
   ]
  },
  {
   "cell_type": "code",
   "execution_count": 58,
   "id": "3c0231a5",
   "metadata": {},
   "outputs": [],
   "source": [
    "laliga[\"Equipo\"] = laliga[\"Equipo\"].replace({'Real Sociedad\\n':\"RSO\", \"Real Madrid C. F.\\n\":\"RMD\", \"Sevilla F. C.\\n\": \"SEV\",\n",
    "                               \"Atlético de Madrid\\n\":\"ATM\", \"Real Betis Balompié\\n\":\"BET\", \"Getafe C. F.\\n\":\"GET\",\n",
    "                               \"Levante U. D.\\n\":\"LEV\", \"Deportivo Alavés\\n\":\"ALA\", \"Elche C. F.\\n\": \"ELC\",\n",
    "                               \"R. C. Celta de Vigo\\n\":\"CEL\", 'Cádiz C. F.\\n':\"CAD\", \"Granada C. F.\\n\":\"GRA\", \"Villarreal C. F.\\n\": \"VIL\",\n",
    "                               \"R. C. D. Mallorca\\n\":\"MAL\", \"Valencia C. F.\\n\":\"VAL\", \"R. C. D. Espanyol\\n\":\"ESP\",\n",
    "                               \"F. C. Barcelona\\n\":\"FCB\", \"Athletic Club\\n\":\"ATH\",\"Rayo Vallecano\\n\": \"RYV\", \"C. A. Osasuna\\n\": \"OSA\"}) "
   ]
  },
  {
   "cell_type": "code",
   "execution_count": 59,
   "id": "28fc44b8",
   "metadata": {
    "scrolled": false
   },
   "outputs": [
    {
     "data": {
      "text/html": [
       "<div>\n",
       "<style scoped>\n",
       "    .dataframe tbody tr th:only-of-type {\n",
       "        vertical-align: middle;\n",
       "    }\n",
       "\n",
       "    .dataframe tbody tr th {\n",
       "        vertical-align: top;\n",
       "    }\n",
       "\n",
       "    .dataframe thead th {\n",
       "        text-align: right;\n",
       "    }\n",
       "</style>\n",
       "<table border=\"1\" class=\"dataframe\">\n",
       "  <thead>\n",
       "    <tr style=\"text-align: right;\">\n",
       "      <th></th>\n",
       "      <th>Equipo</th>\n",
       "      <th>Puntos</th>\n",
       "    </tr>\n",
       "  </thead>\n",
       "  <tbody>\n",
       "    <tr>\n",
       "      <th>15</th>\n",
       "      <td>CAD</td>\n",
       "      <td>12</td>\n",
       "    </tr>\n",
       "    <tr>\n",
       "      <th>16</th>\n",
       "      <td>GRA</td>\n",
       "      <td>11</td>\n",
       "    </tr>\n",
       "    <tr>\n",
       "      <th>17</th>\n",
       "      <td>ELC</td>\n",
       "      <td>10</td>\n",
       "    </tr>\n",
       "    <tr>\n",
       "      <th>18</th>\n",
       "      <td>LEV</td>\n",
       "      <td>6</td>\n",
       "    </tr>\n",
       "    <tr>\n",
       "      <th>19</th>\n",
       "      <td>GET</td>\n",
       "      <td>6</td>\n",
       "    </tr>\n",
       "  </tbody>\n",
       "</table>\n",
       "</div>"
      ],
      "text/plain": [
       "   Equipo  Puntos\n",
       "15    CAD      12\n",
       "16    GRA      11\n",
       "17    ELC      10\n",
       "18    LEV       6\n",
       "19    GET       6"
      ]
     },
     "execution_count": 59,
     "metadata": {},
     "output_type": "execute_result"
    }
   ],
   "source": [
    "laliga.tail()"
   ]
  },
  {
   "cell_type": "code",
   "execution_count": 60,
   "id": "ca412827",
   "metadata": {},
   "outputs": [
    {
     "data": {
      "text/plain": [
       "array(['RSO', 'RMD', 'SEV', 'ATM', 'BET', 'RYV', 'OSA', 'ATH', 'FCB',\n",
       "       'VAL', 'ESP', 'VIL', 'MAL', 'ALA', 'CEL', 'CAD', 'GRA', 'ELC',\n",
       "       'LEV', 'GET'], dtype=object)"
      ]
     },
     "execution_count": 60,
     "metadata": {},
     "output_type": "execute_result"
    }
   ],
   "source": [
    "laliga[\"Equipo\"].unique()"
   ]
  },
  {
   "cell_type": "code",
   "execution_count": null,
   "id": "7489d917",
   "metadata": {},
   "outputs": [],
   "source": []
  },
  {
   "cell_type": "code",
   "execution_count": null,
   "id": "9343f6a2",
   "metadata": {},
   "outputs": [],
   "source": []
  },
  {
   "cell_type": "code",
   "execution_count": null,
   "id": "d6873089",
   "metadata": {},
   "outputs": [],
   "source": []
  },
  {
   "cell_type": "code",
   "execution_count": null,
   "id": "750281cf",
   "metadata": {},
   "outputs": [],
   "source": []
  },
  {
   "cell_type": "code",
   "execution_count": null,
   "id": "c87507ef",
   "metadata": {},
   "outputs": [],
   "source": []
  },
  {
   "cell_type": "code",
   "execution_count": 61,
   "id": "7dbd4130",
   "metadata": {
    "collapsed": true
   },
   "outputs": [
    {
     "name": "stderr",
     "output_type": "stream",
     "text": [
      "/Users/macniacos/Desktop/Ironhack/anaconda3/envs/ironhack/lib/python3.8/site-packages/IPython/core/interactiveshell.py:3417: DtypeWarning: Columns (25,108) have mixed types.Specify dtype option on import or set low_memory=False.\n",
      "  exec(code_obj, self.user_global_ns, self.user_ns)\n"
     ]
    }
   ],
   "source": [
    "# Nos traemos el data set \n",
    "f = pd.read_csv(\"players_22.csv\",encoding = \"ISO-8859-1\")"
   ]
  },
  {
   "cell_type": "code",
   "execution_count": 36,
   "id": "394878e6",
   "metadata": {
    "scrolled": false
   },
   "outputs": [
    {
     "data": {
      "text/html": [
       "<div>\n",
       "<style scoped>\n",
       "    .dataframe tbody tr th:only-of-type {\n",
       "        vertical-align: middle;\n",
       "    }\n",
       "\n",
       "    .dataframe tbody tr th {\n",
       "        vertical-align: top;\n",
       "    }\n",
       "\n",
       "    .dataframe thead th {\n",
       "        text-align: right;\n",
       "    }\n",
       "</style>\n",
       "<table border=\"1\" class=\"dataframe\">\n",
       "  <thead>\n",
       "    <tr style=\"text-align: right;\">\n",
       "      <th></th>\n",
       "      <th>sofifa_id</th>\n",
       "      <th>player_url</th>\n",
       "      <th>short_name</th>\n",
       "      <th>long_name</th>\n",
       "      <th>player_positions</th>\n",
       "      <th>overall</th>\n",
       "      <th>potential</th>\n",
       "      <th>value_eur</th>\n",
       "      <th>wage_eur</th>\n",
       "      <th>age</th>\n",
       "      <th>...</th>\n",
       "      <th>lcb</th>\n",
       "      <th>cb</th>\n",
       "      <th>rcb</th>\n",
       "      <th>rb</th>\n",
       "      <th>gk</th>\n",
       "      <th>player_face_url</th>\n",
       "      <th>club_logo_url</th>\n",
       "      <th>club_flag_url</th>\n",
       "      <th>nation_logo_url</th>\n",
       "      <th>nation_flag_url</th>\n",
       "    </tr>\n",
       "  </thead>\n",
       "  <tbody>\n",
       "    <tr>\n",
       "      <th>0</th>\n",
       "      <td>158023</td>\n",
       "      <td>https://sofifa.com/player/158023/lionel-messi/...</td>\n",
       "      <td>L. Messi</td>\n",
       "      <td>Lionel AndrÃ©s Messi Cuccittini</td>\n",
       "      <td>RW, ST, CF</td>\n",
       "      <td>93</td>\n",
       "      <td>93</td>\n",
       "      <td>78000000.0</td>\n",
       "      <td>320000.0</td>\n",
       "      <td>34</td>\n",
       "      <td>...</td>\n",
       "      <td>50+3</td>\n",
       "      <td>50+3</td>\n",
       "      <td>50+3</td>\n",
       "      <td>61+3</td>\n",
       "      <td>19+3</td>\n",
       "      <td>https://cdn.sofifa.net/players/158/023/22_120.png</td>\n",
       "      <td>https://cdn.sofifa.net/teams/73/60.png</td>\n",
       "      <td>https://cdn.sofifa.net/flags/fr.png</td>\n",
       "      <td>https://cdn.sofifa.net/teams/1369/60.png</td>\n",
       "      <td>https://cdn.sofifa.net/flags/ar.png</td>\n",
       "    </tr>\n",
       "    <tr>\n",
       "      <th>1</th>\n",
       "      <td>188545</td>\n",
       "      <td>https://sofifa.com/player/188545/robert-lewand...</td>\n",
       "      <td>R. Lewandowski</td>\n",
       "      <td>Robert Lewandowski</td>\n",
       "      <td>ST</td>\n",
       "      <td>92</td>\n",
       "      <td>92</td>\n",
       "      <td>119500000.0</td>\n",
       "      <td>270000.0</td>\n",
       "      <td>32</td>\n",
       "      <td>...</td>\n",
       "      <td>60+3</td>\n",
       "      <td>60+3</td>\n",
       "      <td>60+3</td>\n",
       "      <td>61+3</td>\n",
       "      <td>19+3</td>\n",
       "      <td>https://cdn.sofifa.net/players/188/545/22_120.png</td>\n",
       "      <td>https://cdn.sofifa.net/teams/21/60.png</td>\n",
       "      <td>https://cdn.sofifa.net/flags/de.png</td>\n",
       "      <td>https://cdn.sofifa.net/teams/1353/60.png</td>\n",
       "      <td>https://cdn.sofifa.net/flags/pl.png</td>\n",
       "    </tr>\n",
       "    <tr>\n",
       "      <th>2</th>\n",
       "      <td>20801</td>\n",
       "      <td>https://sofifa.com/player/20801/c-ronaldo-dos-...</td>\n",
       "      <td>Cristiano Ronaldo</td>\n",
       "      <td>Cristiano Ronaldo dos Santos Aveiro</td>\n",
       "      <td>ST, LW</td>\n",
       "      <td>91</td>\n",
       "      <td>91</td>\n",
       "      <td>45000000.0</td>\n",
       "      <td>270000.0</td>\n",
       "      <td>36</td>\n",
       "      <td>...</td>\n",
       "      <td>53+3</td>\n",
       "      <td>53+3</td>\n",
       "      <td>53+3</td>\n",
       "      <td>60+3</td>\n",
       "      <td>20+3</td>\n",
       "      <td>https://cdn.sofifa.net/players/020/801/22_120.png</td>\n",
       "      <td>https://cdn.sofifa.net/teams/11/60.png</td>\n",
       "      <td>https://cdn.sofifa.net/flags/gb-eng.png</td>\n",
       "      <td>https://cdn.sofifa.net/teams/1354/60.png</td>\n",
       "      <td>https://cdn.sofifa.net/flags/pt.png</td>\n",
       "    </tr>\n",
       "    <tr>\n",
       "      <th>3</th>\n",
       "      <td>190871</td>\n",
       "      <td>https://sofifa.com/player/190871/neymar-da-sil...</td>\n",
       "      <td>Neymar Jr</td>\n",
       "      <td>Neymar da Silva Santos JÃºnior</td>\n",
       "      <td>LW, CAM</td>\n",
       "      <td>91</td>\n",
       "      <td>91</td>\n",
       "      <td>129000000.0</td>\n",
       "      <td>270000.0</td>\n",
       "      <td>29</td>\n",
       "      <td>...</td>\n",
       "      <td>50+3</td>\n",
       "      <td>50+3</td>\n",
       "      <td>50+3</td>\n",
       "      <td>62+3</td>\n",
       "      <td>20+3</td>\n",
       "      <td>https://cdn.sofifa.net/players/190/871/22_120.png</td>\n",
       "      <td>https://cdn.sofifa.net/teams/73/60.png</td>\n",
       "      <td>https://cdn.sofifa.net/flags/fr.png</td>\n",
       "      <td>NaN</td>\n",
       "      <td>https://cdn.sofifa.net/flags/br.png</td>\n",
       "    </tr>\n",
       "    <tr>\n",
       "      <th>4</th>\n",
       "      <td>192985</td>\n",
       "      <td>https://sofifa.com/player/192985/kevin-de-bruy...</td>\n",
       "      <td>K. De Bruyne</td>\n",
       "      <td>Kevin De Bruyne</td>\n",
       "      <td>CM, CAM</td>\n",
       "      <td>91</td>\n",
       "      <td>91</td>\n",
       "      <td>125500000.0</td>\n",
       "      <td>350000.0</td>\n",
       "      <td>30</td>\n",
       "      <td>...</td>\n",
       "      <td>69+3</td>\n",
       "      <td>69+3</td>\n",
       "      <td>69+3</td>\n",
       "      <td>75+3</td>\n",
       "      <td>21+3</td>\n",
       "      <td>https://cdn.sofifa.net/players/192/985/22_120.png</td>\n",
       "      <td>https://cdn.sofifa.net/teams/10/60.png</td>\n",
       "      <td>https://cdn.sofifa.net/flags/gb-eng.png</td>\n",
       "      <td>https://cdn.sofifa.net/teams/1325/60.png</td>\n",
       "      <td>https://cdn.sofifa.net/flags/be.png</td>\n",
       "    </tr>\n",
       "  </tbody>\n",
       "</table>\n",
       "<p>5 rows × 110 columns</p>\n",
       "</div>"
      ],
      "text/plain": [
       "   sofifa_id                                         player_url  \\\n",
       "0     158023  https://sofifa.com/player/158023/lionel-messi/...   \n",
       "1     188545  https://sofifa.com/player/188545/robert-lewand...   \n",
       "2      20801  https://sofifa.com/player/20801/c-ronaldo-dos-...   \n",
       "3     190871  https://sofifa.com/player/190871/neymar-da-sil...   \n",
       "4     192985  https://sofifa.com/player/192985/kevin-de-bruy...   \n",
       "\n",
       "          short_name                            long_name player_positions  \\\n",
       "0           L. Messi      Lionel AndrÃ©s Messi Cuccittini       RW, ST, CF   \n",
       "1     R. Lewandowski                   Robert Lewandowski               ST   \n",
       "2  Cristiano Ronaldo  Cristiano Ronaldo dos Santos Aveiro           ST, LW   \n",
       "3          Neymar Jr       Neymar da Silva Santos JÃºnior          LW, CAM   \n",
       "4       K. De Bruyne                      Kevin De Bruyne          CM, CAM   \n",
       "\n",
       "   overall  potential    value_eur  wage_eur  age  ...   lcb    cb   rcb  \\\n",
       "0       93         93   78000000.0  320000.0   34  ...  50+3  50+3  50+3   \n",
       "1       92         92  119500000.0  270000.0   32  ...  60+3  60+3  60+3   \n",
       "2       91         91   45000000.0  270000.0   36  ...  53+3  53+3  53+3   \n",
       "3       91         91  129000000.0  270000.0   29  ...  50+3  50+3  50+3   \n",
       "4       91         91  125500000.0  350000.0   30  ...  69+3  69+3  69+3   \n",
       "\n",
       "     rb    gk                                    player_face_url  \\\n",
       "0  61+3  19+3  https://cdn.sofifa.net/players/158/023/22_120.png   \n",
       "1  61+3  19+3  https://cdn.sofifa.net/players/188/545/22_120.png   \n",
       "2  60+3  20+3  https://cdn.sofifa.net/players/020/801/22_120.png   \n",
       "3  62+3  20+3  https://cdn.sofifa.net/players/190/871/22_120.png   \n",
       "4  75+3  21+3  https://cdn.sofifa.net/players/192/985/22_120.png   \n",
       "\n",
       "                            club_logo_url  \\\n",
       "0  https://cdn.sofifa.net/teams/73/60.png   \n",
       "1  https://cdn.sofifa.net/teams/21/60.png   \n",
       "2  https://cdn.sofifa.net/teams/11/60.png   \n",
       "3  https://cdn.sofifa.net/teams/73/60.png   \n",
       "4  https://cdn.sofifa.net/teams/10/60.png   \n",
       "\n",
       "                             club_flag_url  \\\n",
       "0      https://cdn.sofifa.net/flags/fr.png   \n",
       "1      https://cdn.sofifa.net/flags/de.png   \n",
       "2  https://cdn.sofifa.net/flags/gb-eng.png   \n",
       "3      https://cdn.sofifa.net/flags/fr.png   \n",
       "4  https://cdn.sofifa.net/flags/gb-eng.png   \n",
       "\n",
       "                            nation_logo_url  \\\n",
       "0  https://cdn.sofifa.net/teams/1369/60.png   \n",
       "1  https://cdn.sofifa.net/teams/1353/60.png   \n",
       "2  https://cdn.sofifa.net/teams/1354/60.png   \n",
       "3                                       NaN   \n",
       "4  https://cdn.sofifa.net/teams/1325/60.png   \n",
       "\n",
       "                       nation_flag_url  \n",
       "0  https://cdn.sofifa.net/flags/ar.png  \n",
       "1  https://cdn.sofifa.net/flags/pl.png  \n",
       "2  https://cdn.sofifa.net/flags/pt.png  \n",
       "3  https://cdn.sofifa.net/flags/br.png  \n",
       "4  https://cdn.sofifa.net/flags/be.png  \n",
       "\n",
       "[5 rows x 110 columns]"
      ]
     },
     "execution_count": 36,
     "metadata": {},
     "output_type": "execute_result"
    }
   ],
   "source": [
    "f.head()"
   ]
  },
  {
   "cell_type": "code",
   "execution_count": 62,
   "id": "ada72e26",
   "metadata": {
    "scrolled": false
   },
   "outputs": [
    {
     "data": {
      "text/html": [
       "<div>\n",
       "<style scoped>\n",
       "    .dataframe tbody tr th:only-of-type {\n",
       "        vertical-align: middle;\n",
       "    }\n",
       "\n",
       "    .dataframe tbody tr th {\n",
       "        vertical-align: top;\n",
       "    }\n",
       "\n",
       "    .dataframe thead th {\n",
       "        text-align: right;\n",
       "    }\n",
       "</style>\n",
       "<table border=\"1\" class=\"dataframe\">\n",
       "  <thead>\n",
       "    <tr style=\"text-align: right;\">\n",
       "      <th></th>\n",
       "      <th>short_name</th>\n",
       "      <th>overall</th>\n",
       "      <th>club_name</th>\n",
       "      <th>league_name</th>\n",
       "    </tr>\n",
       "  </thead>\n",
       "  <tbody>\n",
       "    <tr>\n",
       "      <th>0</th>\n",
       "      <td>L. Messi</td>\n",
       "      <td>93</td>\n",
       "      <td>Paris Saint-Germain</td>\n",
       "      <td>French Ligue 1</td>\n",
       "    </tr>\n",
       "    <tr>\n",
       "      <th>1</th>\n",
       "      <td>R. Lewandowski</td>\n",
       "      <td>92</td>\n",
       "      <td>FC Bayern MÃ¼nchen</td>\n",
       "      <td>German 1. Bundesliga</td>\n",
       "    </tr>\n",
       "    <tr>\n",
       "      <th>2</th>\n",
       "      <td>Cristiano Ronaldo</td>\n",
       "      <td>91</td>\n",
       "      <td>Manchester United</td>\n",
       "      <td>English Premier League</td>\n",
       "    </tr>\n",
       "    <tr>\n",
       "      <th>3</th>\n",
       "      <td>Neymar Jr</td>\n",
       "      <td>91</td>\n",
       "      <td>Paris Saint-Germain</td>\n",
       "      <td>French Ligue 1</td>\n",
       "    </tr>\n",
       "    <tr>\n",
       "      <th>4</th>\n",
       "      <td>K. De Bruyne</td>\n",
       "      <td>91</td>\n",
       "      <td>Manchester City</td>\n",
       "      <td>English Premier League</td>\n",
       "    </tr>\n",
       "  </tbody>\n",
       "</table>\n",
       "</div>"
      ],
      "text/plain": [
       "          short_name  overall            club_name             league_name\n",
       "0           L. Messi       93  Paris Saint-Germain          French Ligue 1\n",
       "1     R. Lewandowski       92   FC Bayern MÃ¼nchen    German 1. Bundesliga\n",
       "2  Cristiano Ronaldo       91    Manchester United  English Premier League\n",
       "3          Neymar Jr       91  Paris Saint-Germain          French Ligue 1\n",
       "4       K. De Bruyne       91      Manchester City  English Premier League"
      ]
     },
     "execution_count": 62,
     "metadata": {},
     "output_type": "execute_result"
    }
   ],
   "source": [
    "#Seleccionamos las columnas que nos interesan\n",
    "selected_columns = f[[\"short_name\", \"overall\",\"club_name\",\"league_name\"]]\n",
    "f2 = selected_columns.copy()\n",
    "f2.head()"
   ]
  },
  {
   "cell_type": "code",
   "execution_count": 63,
   "id": "947ef636",
   "metadata": {
    "collapsed": true
   },
   "outputs": [
    {
     "name": "stderr",
     "output_type": "stream",
     "text": [
      "/Users/macniacos/Desktop/Ironhack/anaconda3/envs/ironhack/lib/python3.8/site-packages/pandas/core/frame.py:4906: SettingWithCopyWarning: \n",
      "A value is trying to be set on a copy of a slice from a DataFrame\n",
      "\n",
      "See the caveats in the documentation: https://pandas.pydata.org/pandas-docs/stable/user_guide/indexing.html#returning-a-view-versus-a-copy\n",
      "  return super().drop(\n"
     ]
    }
   ],
   "source": [
    "#Nos quedamos con los jugadores de la liga española, y eliminamos la columna que hace referencia a la liga\n",
    "f3 = f2[f2[\"league_name\"] == \"Spain Primera Division\"]\n",
    "f3.drop([\"league_name\"], axis=1, inplace=True)"
   ]
  },
  {
   "cell_type": "code",
   "execution_count": 32,
   "id": "281dfcf3",
   "metadata": {
    "scrolled": false
   },
   "outputs": [
    {
     "data": {
      "text/plain": [
       "array(['AtlÃ©tico de Madrid', 'FC Barcelona', 'Real Madrid CF',\n",
       "       'Villarreal CF', 'Sevilla FC', 'Real Sociedad', 'RC Celta de Vigo',\n",
       "       'Real Betis BalompiÃ©', 'Athletic Club de Bilbao', 'Valencia CF',\n",
       "       'Levante UniÃ³n Deportiva', 'Granada CF', 'Getafe CF',\n",
       "       'Deportivo AlavÃ©s', 'RCD Espanyol de Barcelona', 'Elche CF',\n",
       "       'CA Osasuna', 'CÃ¡diz CF', 'Rayo Vallecano', 'RCD Mallorca'],\n",
       "      dtype=object)"
      ]
     },
     "execution_count": 32,
     "metadata": {},
     "output_type": "execute_result"
    }
   ],
   "source": [
    "f3[\"club_name\"].unique()"
   ]
  },
  {
   "cell_type": "code",
   "execution_count": 64,
   "id": "abb76500",
   "metadata": {
    "collapsed": true
   },
   "outputs": [
    {
     "name": "stderr",
     "output_type": "stream",
     "text": [
      "<ipython-input-64-fc0f574ea5ff>:2: SettingWithCopyWarning: \n",
      "A value is trying to be set on a copy of a slice from a DataFrame.\n",
      "Try using .loc[row_indexer,col_indexer] = value instead\n",
      "\n",
      "See the caveats in the documentation: https://pandas.pydata.org/pandas-docs/stable/user_guide/indexing.html#returning-a-view-versus-a-copy\n",
      "  f3[\"club_name\"] = f3[\"club_name\"].replace({'Real Sociedad':\"RSO\", \"Real Madrid CF\":\"RMD\", \"Sevilla FC\": \"SEV\",\n"
     ]
    }
   ],
   "source": [
    "#Sustituimos los nombres de los equipos por los mismos códigos anteriores\n",
    "f3[\"club_name\"] = f3[\"club_name\"].replace({'Real Sociedad':\"RSO\", \"Real Madrid CF\":\"RMD\", \"Sevilla FC\": \"SEV\",\n",
    "                               \"AtlÃ©tico de Madrid\":\"ATM\", \"Real Betis BalompiÃ©\":\"BET\", \"Getafe CF\":\"GET\",\n",
    "                               \"Levante UniÃ³n Deportiva\":\"LEV\", \"Deportivo AlavÃ©s\":\"ALA\", \"Elche CF\": \"ELC\",\n",
    "                               \"RC Celta de Vigo\":\"CEL\", 'CÃ¡diz CF':\"CAD\", \"Granada CF\":\"GRA\", \"Villarreal CF\": \"VIL\",\n",
    "                               \"RCD Mallorca\":\"MAL\", \"Valencia CF\":\"VAL\", \"RCD Espanyol de Barcelona\":\"ESP\",\n",
    "                               \"FC Barcelona\":\"FCB\", \"Athletic Club de Bilbao\":\"ATH\",\"Rayo Vallecano\": \"RYV\", \"CA Osasuna\": \"OSA\"}) "
   ]
  },
  {
   "cell_type": "code",
   "execution_count": 34,
   "id": "8c1983ff",
   "metadata": {
    "scrolled": false
   },
   "outputs": [
    {
     "data": {
      "text/plain": [
       "array(['ATM', 'FCB', 'RMD', 'VIL', 'SEV', 'RSO', 'CEL', 'BET', 'ATH',\n",
       "       'VAL', 'LEV', 'GRA', 'GET', 'ALA', 'ESP', 'ELC', 'OSA', 'CAD',\n",
       "       'RYV', 'MAL'], dtype=object)"
      ]
     },
     "execution_count": 34,
     "metadata": {},
     "output_type": "execute_result"
    }
   ],
   "source": [
    "f3[\"club_name\"].unique()"
   ]
  },
  {
   "cell_type": "code",
   "execution_count": 35,
   "id": "61f85a46",
   "metadata": {},
   "outputs": [
    {
     "data": {
      "text/html": [
       "<div>\n",
       "<style scoped>\n",
       "    .dataframe tbody tr th:only-of-type {\n",
       "        vertical-align: middle;\n",
       "    }\n",
       "\n",
       "    .dataframe tbody tr th {\n",
       "        vertical-align: top;\n",
       "    }\n",
       "\n",
       "    .dataframe thead th {\n",
       "        text-align: right;\n",
       "    }\n",
       "</style>\n",
       "<table border=\"1\" class=\"dataframe\">\n",
       "  <thead>\n",
       "    <tr style=\"text-align: right;\">\n",
       "      <th></th>\n",
       "      <th>short_name</th>\n",
       "      <th>overall</th>\n",
       "      <th>club_name</th>\n",
       "    </tr>\n",
       "  </thead>\n",
       "  <tbody>\n",
       "    <tr>\n",
       "      <th>5</th>\n",
       "      <td>J. Oblak</td>\n",
       "      <td>91</td>\n",
       "      <td>ATM</td>\n",
       "    </tr>\n",
       "    <tr>\n",
       "      <th>8</th>\n",
       "      <td>M. ter Stegen</td>\n",
       "      <td>90</td>\n",
       "      <td>FCB</td>\n",
       "    </tr>\n",
       "    <tr>\n",
       "      <th>11</th>\n",
       "      <td>K. Benzema</td>\n",
       "      <td>89</td>\n",
       "      <td>RMD</td>\n",
       "    </tr>\n",
       "    <tr>\n",
       "      <th>12</th>\n",
       "      <td>T. Courtois</td>\n",
       "      <td>89</td>\n",
       "      <td>RMD</td>\n",
       "    </tr>\n",
       "    <tr>\n",
       "      <th>14</th>\n",
       "      <td>Casemiro</td>\n",
       "      <td>89</td>\n",
       "      <td>RMD</td>\n",
       "    </tr>\n",
       "    <tr>\n",
       "      <th>...</th>\n",
       "      <td>...</td>\n",
       "      <td>...</td>\n",
       "      <td>...</td>\n",
       "    </tr>\n",
       "    <tr>\n",
       "      <th>16775</th>\n",
       "      <td>Diego Bri</td>\n",
       "      <td>58</td>\n",
       "      <td>ELC</td>\n",
       "    </tr>\n",
       "    <tr>\n",
       "      <th>16833</th>\n",
       "      <td>W. Suzuki</td>\n",
       "      <td>58</td>\n",
       "      <td>VAL</td>\n",
       "    </tr>\n",
       "    <tr>\n",
       "      <th>16965</th>\n",
       "      <td>Alex RodrÃ­guez</td>\n",
       "      <td>58</td>\n",
       "      <td>GET</td>\n",
       "    </tr>\n",
       "    <tr>\n",
       "      <th>16966</th>\n",
       "      <td>A. Akurugu</td>\n",
       "      <td>58</td>\n",
       "      <td>GET</td>\n",
       "    </tr>\n",
       "    <tr>\n",
       "      <th>17629</th>\n",
       "      <td>Lluis Andreu</td>\n",
       "      <td>56</td>\n",
       "      <td>ELC</td>\n",
       "    </tr>\n",
       "  </tbody>\n",
       "</table>\n",
       "<p>633 rows × 3 columns</p>\n",
       "</div>"
      ],
      "text/plain": [
       "            short_name  overall club_name\n",
       "5             J. Oblak       91       ATM\n",
       "8        M. ter Stegen       90       FCB\n",
       "11          K. Benzema       89       RMD\n",
       "12         T. Courtois       89       RMD\n",
       "14            Casemiro       89       RMD\n",
       "...                ...      ...       ...\n",
       "16775        Diego Bri       58       ELC\n",
       "16833        W. Suzuki       58       VAL\n",
       "16965  Alex RodrÃ­guez       58       GET\n",
       "16966       A. Akurugu       58       GET\n",
       "17629     Lluis Andreu       56       ELC\n",
       "\n",
       "[633 rows x 3 columns]"
      ]
     },
     "execution_count": 35,
     "metadata": {},
     "output_type": "execute_result"
    }
   ],
   "source": [
    "f3"
   ]
  },
  {
   "cell_type": "code",
   "execution_count": 65,
   "id": "a4bcbba5",
   "metadata": {},
   "outputs": [],
   "source": [
    "# Agrupamos los jugadores en sus equipos\n",
    "ATM1 = f3[f3[\"club_name\"] == \"ATM\"]\n",
    "FCB1 = f3[f3[\"club_name\"] == \"FCB\"]\n",
    "RMD1 = f3[f3[\"club_name\"] == \"RMD\"]\n",
    "VIL1 = f3[f3[\"club_name\"] == \"VIL\"]\n",
    "SEV1 = f3[f3[\"club_name\"] == \"SEV\"]\n",
    "RSO1 = f3[f3[\"club_name\"] == \"RSO\"]\n",
    "CEL1 = f3[f3[\"club_name\"] == \"CEL\"]\n",
    "BET1 = f3[f3[\"club_name\"] == \"BET\"]\n",
    "ATH1 = f3[f3[\"club_name\"] == \"ATH\"]\n",
    "VAL1 = f3[f3[\"club_name\"] == \"VAL\"]\n",
    "LEV1 = f3[f3[\"club_name\"] == \"LEV\"]\n",
    "GRA1 = f3[f3[\"club_name\"] == \"GRA\"]\n",
    "GET1 = f3[f3[\"club_name\"] == \"GET\"]\n",
    "ALA1 = f3[f3[\"club_name\"] == \"ALA\"]\n",
    "ESP1 = f3[f3[\"club_name\"] == \"ESP\"]\n",
    "ELC1 = f3[f3[\"club_name\"] == \"ELC\"]\n",
    "OSA1 = f3[f3[\"club_name\"] == \"OSA\"]\n",
    "CAD1 = f3[f3[\"club_name\"] == \"CAD\"]\n",
    "RYV1 = f3[f3[\"club_name\"] == \"RYV\"]\n",
    "MAL1 = f3[f3[\"club_name\"] == \"MAL\"]"
   ]
  },
  {
   "cell_type": "code",
   "execution_count": 37,
   "id": "9be4db90",
   "metadata": {},
   "outputs": [
    {
     "data": {
      "text/html": [
       "<div>\n",
       "<style scoped>\n",
       "    .dataframe tbody tr th:only-of-type {\n",
       "        vertical-align: middle;\n",
       "    }\n",
       "\n",
       "    .dataframe tbody tr th {\n",
       "        vertical-align: top;\n",
       "    }\n",
       "\n",
       "    .dataframe thead th {\n",
       "        text-align: right;\n",
       "    }\n",
       "</style>\n",
       "<table border=\"1\" class=\"dataframe\">\n",
       "  <thead>\n",
       "    <tr style=\"text-align: right;\">\n",
       "      <th></th>\n",
       "      <th>short_name</th>\n",
       "      <th>overall</th>\n",
       "      <th>club_name</th>\n",
       "    </tr>\n",
       "  </thead>\n",
       "  <tbody>\n",
       "    <tr>\n",
       "      <th>11</th>\n",
       "      <td>K. Benzema</td>\n",
       "      <td>89</td>\n",
       "      <td>RMD</td>\n",
       "    </tr>\n",
       "    <tr>\n",
       "      <th>12</th>\n",
       "      <td>T. Courtois</td>\n",
       "      <td>89</td>\n",
       "      <td>RMD</td>\n",
       "    </tr>\n",
       "    <tr>\n",
       "      <th>14</th>\n",
       "      <td>Casemiro</td>\n",
       "      <td>89</td>\n",
       "      <td>RMD</td>\n",
       "    </tr>\n",
       "    <tr>\n",
       "      <th>24</th>\n",
       "      <td>T. Kroos</td>\n",
       "      <td>88</td>\n",
       "      <td>RMD</td>\n",
       "    </tr>\n",
       "    <tr>\n",
       "      <th>32</th>\n",
       "      <td>L. ModriÄ</td>\n",
       "      <td>87</td>\n",
       "      <td>RMD</td>\n",
       "    </tr>\n",
       "  </tbody>\n",
       "</table>\n",
       "</div>"
      ],
      "text/plain": [
       "     short_name  overall club_name\n",
       "11   K. Benzema       89       RMD\n",
       "12  T. Courtois       89       RMD\n",
       "14     Casemiro       89       RMD\n",
       "24     T. Kroos       88       RMD\n",
       "32   L. ModriÄ       87       RMD"
      ]
     },
     "execution_count": 37,
     "metadata": {},
     "output_type": "execute_result"
    }
   ],
   "source": [
    "RMD1.head()"
   ]
  },
  {
   "cell_type": "code",
   "execution_count": 66,
   "id": "e3cf4713",
   "metadata": {},
   "outputs": [],
   "source": [
    "# Actualizamos los equipos seleccionando solos sus 11 mejores jugadores\n",
    "RMD2 = RMD1.nlargest(11,'overall')\n",
    "ATM2 = ATM1.nlargest(11,'overall')\n",
    "FCB2 = FCB1.nlargest(11,'overall')\n",
    "VIL2 = VIL1.nlargest(11,'overall')\n",
    "SEV2 = SEV1.nlargest(11,'overall')\n",
    "RSO2 = RSO1.nlargest(11,'overall')\n",
    "CEL2 = CEL1.nlargest(11,'overall')\n",
    "BET2 = BET1.nlargest(11,'overall')\n",
    "ATH2 = ATH1.nlargest(11,'overall')\n",
    "VAL2 = VAL1.nlargest(11,'overall')\n",
    "LEV2 = LEV1.nlargest(11,'overall')\n",
    "GRA2 = GRA1.nlargest(11,'overall')\n",
    "GET2 = GET1.nlargest(11,'overall')\n",
    "ALA2 = ALA1.nlargest(11,'overall')\n",
    "ESP2 = ESP1.nlargest(11,'overall')\n",
    "ELC2 = ELC1.nlargest(11,'overall')\n",
    "OSA2 = OSA1.nlargest(11,'overall')\n",
    "CAD2 = CAD1.nlargest(11,'overall')\n",
    "RYV2 = RYV1.nlargest(11,'overall')\n",
    "MAL2 = MAL1.nlargest(11,'overall')"
   ]
  },
  {
   "cell_type": "code",
   "execution_count": 39,
   "id": "8e5e5efe",
   "metadata": {},
   "outputs": [
    {
     "data": {
      "text/html": [
       "<div>\n",
       "<style scoped>\n",
       "    .dataframe tbody tr th:only-of-type {\n",
       "        vertical-align: middle;\n",
       "    }\n",
       "\n",
       "    .dataframe tbody tr th {\n",
       "        vertical-align: top;\n",
       "    }\n",
       "\n",
       "    .dataframe thead th {\n",
       "        text-align: right;\n",
       "    }\n",
       "</style>\n",
       "<table border=\"1\" class=\"dataframe\">\n",
       "  <thead>\n",
       "    <tr style=\"text-align: right;\">\n",
       "      <th></th>\n",
       "      <th>short_name</th>\n",
       "      <th>overall</th>\n",
       "      <th>club_name</th>\n",
       "    </tr>\n",
       "  </thead>\n",
       "  <tbody>\n",
       "    <tr>\n",
       "      <th>11</th>\n",
       "      <td>K. Benzema</td>\n",
       "      <td>89</td>\n",
       "      <td>RMD</td>\n",
       "    </tr>\n",
       "    <tr>\n",
       "      <th>12</th>\n",
       "      <td>T. Courtois</td>\n",
       "      <td>89</td>\n",
       "      <td>RMD</td>\n",
       "    </tr>\n",
       "    <tr>\n",
       "      <th>14</th>\n",
       "      <td>Casemiro</td>\n",
       "      <td>89</td>\n",
       "      <td>RMD</td>\n",
       "    </tr>\n",
       "    <tr>\n",
       "      <th>24</th>\n",
       "      <td>T. Kroos</td>\n",
       "      <td>88</td>\n",
       "      <td>RMD</td>\n",
       "    </tr>\n",
       "    <tr>\n",
       "      <th>32</th>\n",
       "      <td>L. ModriÄ</td>\n",
       "      <td>87</td>\n",
       "      <td>RMD</td>\n",
       "    </tr>\n",
       "  </tbody>\n",
       "</table>\n",
       "</div>"
      ],
      "text/plain": [
       "     short_name  overall club_name\n",
       "11   K. Benzema       89       RMD\n",
       "12  T. Courtois       89       RMD\n",
       "14     Casemiro       89       RMD\n",
       "24     T. Kroos       88       RMD\n",
       "32   L. ModriÄ       87       RMD"
      ]
     },
     "execution_count": 39,
     "metadata": {},
     "output_type": "execute_result"
    }
   ],
   "source": [
    "RMD2.head()"
   ]
  },
  {
   "cell_type": "code",
   "execution_count": 67,
   "id": "f9b3fecf",
   "metadata": {},
   "outputs": [],
   "source": [
    "# Le añadimos una columna con la media del equipo\n",
    "RMD2['average'] = RMD2[\"overall\"].mean()\n",
    "ATM2['average'] = ATM2[\"overall\"].mean()\n",
    "FCB2['average'] = FCB2[\"overall\"].mean()\n",
    "VIL2['average'] = VIL2[\"overall\"].mean()\n",
    "SEV2['average'] = SEV2[\"overall\"].mean()\n",
    "RSO2['average'] = RSO2[\"overall\"].mean()\n",
    "CEL2['average'] = CEL2[\"overall\"].mean()\n",
    "BET2['average'] = BET2[\"overall\"].mean()\n",
    "ATH2['average'] = ATH2[\"overall\"].mean()\n",
    "VAL2['average'] = VAL2[\"overall\"].mean()\n",
    "LEV2['average'] = LEV2[\"overall\"].mean()\n",
    "GRA2['average'] = GRA2[\"overall\"].mean()\n",
    "GET2['average'] = GET2[\"overall\"].mean()\n",
    "ALA2['average'] = ALA2[\"overall\"].mean()\n",
    "ESP2['average'] = ESP2[\"overall\"].mean()\n",
    "ELC2['average'] = ELC2[\"overall\"].mean()\n",
    "OSA2['average'] = OSA2[\"overall\"].mean()\n",
    "CAD2['average'] = CAD2[\"overall\"].mean()\n",
    "RYV2['average'] = RYV2[\"overall\"].mean()\n",
    "MAL2['average'] = MAL2[\"overall\"].mean()"
   ]
  },
  {
   "cell_type": "code",
   "execution_count": 41,
   "id": "713ded5e",
   "metadata": {},
   "outputs": [
    {
     "data": {
      "text/html": [
       "<div>\n",
       "<style scoped>\n",
       "    .dataframe tbody tr th:only-of-type {\n",
       "        vertical-align: middle;\n",
       "    }\n",
       "\n",
       "    .dataframe tbody tr th {\n",
       "        vertical-align: top;\n",
       "    }\n",
       "\n",
       "    .dataframe thead th {\n",
       "        text-align: right;\n",
       "    }\n",
       "</style>\n",
       "<table border=\"1\" class=\"dataframe\">\n",
       "  <thead>\n",
       "    <tr style=\"text-align: right;\">\n",
       "      <th></th>\n",
       "      <th>short_name</th>\n",
       "      <th>overall</th>\n",
       "      <th>club_name</th>\n",
       "      <th>average</th>\n",
       "    </tr>\n",
       "  </thead>\n",
       "  <tbody>\n",
       "    <tr>\n",
       "      <th>11</th>\n",
       "      <td>K. Benzema</td>\n",
       "      <td>89</td>\n",
       "      <td>RMD</td>\n",
       "      <td>85.909091</td>\n",
       "    </tr>\n",
       "    <tr>\n",
       "      <th>12</th>\n",
       "      <td>T. Courtois</td>\n",
       "      <td>89</td>\n",
       "      <td>RMD</td>\n",
       "      <td>85.909091</td>\n",
       "    </tr>\n",
       "    <tr>\n",
       "      <th>14</th>\n",
       "      <td>Casemiro</td>\n",
       "      <td>89</td>\n",
       "      <td>RMD</td>\n",
       "      <td>85.909091</td>\n",
       "    </tr>\n",
       "    <tr>\n",
       "      <th>24</th>\n",
       "      <td>T. Kroos</td>\n",
       "      <td>88</td>\n",
       "      <td>RMD</td>\n",
       "      <td>85.909091</td>\n",
       "    </tr>\n",
       "    <tr>\n",
       "      <th>32</th>\n",
       "      <td>L. ModriÄ</td>\n",
       "      <td>87</td>\n",
       "      <td>RMD</td>\n",
       "      <td>85.909091</td>\n",
       "    </tr>\n",
       "  </tbody>\n",
       "</table>\n",
       "</div>"
      ],
      "text/plain": [
       "     short_name  overall club_name    average\n",
       "11   K. Benzema       89       RMD  85.909091\n",
       "12  T. Courtois       89       RMD  85.909091\n",
       "14     Casemiro       89       RMD  85.909091\n",
       "24     T. Kroos       88       RMD  85.909091\n",
       "32   L. ModriÄ       87       RMD  85.909091"
      ]
     },
     "execution_count": 41,
     "metadata": {},
     "output_type": "execute_result"
    }
   ],
   "source": [
    "RMD2.head()"
   ]
  },
  {
   "cell_type": "code",
   "execution_count": 68,
   "id": "ecd0a5cd",
   "metadata": {},
   "outputs": [],
   "source": [
    "# Ahora nos quedamos con sólo una línea (lo que queremos es la media del equipo)\n",
    "RMD3 = RMD2.nlargest(1,'overall')\n",
    "ATM3 = ATM2.nlargest(1,'overall')\n",
    "FCB3 = FCB2.nlargest(1,'overall')\n",
    "VIL3 = VIL2.nlargest(1,'overall')\n",
    "SEV3 = SEV2.nlargest(1,'overall')\n",
    "RSO3 = RSO2.nlargest(1,'overall')\n",
    "CEL3 = CEL2.nlargest(1,'overall')\n",
    "BET3 = BET2.nlargest(1,'overall')\n",
    "ATH3 = ATH2.nlargest(1,'overall')\n",
    "VAL3 = VAL2.nlargest(1,'overall')\n",
    "LEV3 = LEV2.nlargest(1,'overall')\n",
    "GRA3 = GRA2.nlargest(1,'overall')\n",
    "GET3 = GET2.nlargest(1,'overall')\n",
    "ALA3 = ALA2.nlargest(1,'overall')\n",
    "ESP3 = ESP2.nlargest(1,'overall')\n",
    "ELC3 = ELC2.nlargest(1,'overall')\n",
    "OSA3 = OSA2.nlargest(1,'overall')\n",
    "CAD3 = CAD2.nlargest(1,'overall')\n",
    "RYV3 = RYV2.nlargest(1,'overall')\n",
    "MAL3 = MAL2.nlargest(1,'overall')"
   ]
  },
  {
   "cell_type": "code",
   "execution_count": 43,
   "id": "531218cf",
   "metadata": {},
   "outputs": [
    {
     "data": {
      "text/html": [
       "<div>\n",
       "<style scoped>\n",
       "    .dataframe tbody tr th:only-of-type {\n",
       "        vertical-align: middle;\n",
       "    }\n",
       "\n",
       "    .dataframe tbody tr th {\n",
       "        vertical-align: top;\n",
       "    }\n",
       "\n",
       "    .dataframe thead th {\n",
       "        text-align: right;\n",
       "    }\n",
       "</style>\n",
       "<table border=\"1\" class=\"dataframe\">\n",
       "  <thead>\n",
       "    <tr style=\"text-align: right;\">\n",
       "      <th></th>\n",
       "      <th>short_name</th>\n",
       "      <th>overall</th>\n",
       "      <th>club_name</th>\n",
       "      <th>average</th>\n",
       "    </tr>\n",
       "  </thead>\n",
       "  <tbody>\n",
       "    <tr>\n",
       "      <th>11</th>\n",
       "      <td>K. Benzema</td>\n",
       "      <td>89</td>\n",
       "      <td>RMD</td>\n",
       "      <td>85.909091</td>\n",
       "    </tr>\n",
       "  </tbody>\n",
       "</table>\n",
       "</div>"
      ],
      "text/plain": [
       "    short_name  overall club_name    average\n",
       "11  K. Benzema       89       RMD  85.909091"
      ]
     },
     "execution_count": 43,
     "metadata": {},
     "output_type": "execute_result"
    }
   ],
   "source": [
    "RMD3"
   ]
  },
  {
   "cell_type": "code",
   "execution_count": 69,
   "id": "1d8af13d",
   "metadata": {},
   "outputs": [],
   "source": [
    "# Elimnamos las columnas del nombre del mejor jugador del equipo y de su media, \n",
    "# quedandonosos sólo con las columnas del código del equipo y la media del mismo\n",
    "\n",
    "RMD3.drop([\"short_name\"] , axis=1, inplace=True)\n",
    "RMD3.drop([\"overall\"] , axis=1, inplace=True)\n",
    "FCB3.drop([\"short_name\"] , axis=1, inplace=True)\n",
    "FCB3.drop([\"overall\"] , axis=1, inplace=True)\n",
    "ATM3.drop([\"short_name\"] , axis=1, inplace=True)\n",
    "ATM3.drop([\"overall\"] , axis=1, inplace=True)\n",
    "VIL3.drop([\"short_name\"] , axis=1, inplace=True)\n",
    "VIL3.drop([\"overall\"] , axis=1, inplace=True)\n",
    "SEV3.drop([\"short_name\"] , axis=1, inplace=True)\n",
    "SEV3.drop([\"overall\"] , axis=1, inplace=True)\n",
    "RSO3.drop([\"short_name\"] , axis=1, inplace=True)\n",
    "RSO3.drop([\"overall\"] , axis=1, inplace=True)\n",
    "CEL3.drop([\"short_name\"] , axis=1, inplace=True)\n",
    "CEL3.drop([\"overall\"] , axis=1, inplace=True)\n",
    "BET3.drop([\"short_name\"] , axis=1, inplace=True)\n",
    "BET3.drop([\"overall\"] , axis=1, inplace=True)\n",
    "ATH3.drop([\"short_name\"] , axis=1, inplace=True)\n",
    "ATH3.drop([\"overall\"] , axis=1, inplace=True)\n",
    "VAL3.drop([\"short_name\"] , axis=1, inplace=True)\n",
    "VAL3.drop([\"overall\"] , axis=1, inplace=True)\n",
    "LEV3.drop([\"short_name\"] , axis=1, inplace=True)\n",
    "LEV3.drop([\"overall\"] , axis=1, inplace=True)\n",
    "GRA3.drop([\"short_name\"] , axis=1, inplace=True)\n",
    "GRA3.drop([\"overall\"] , axis=1, inplace=True)\n",
    "GET3.drop([\"short_name\"] , axis=1, inplace=True)\n",
    "GET3.drop([\"overall\"] , axis=1, inplace=True)\n",
    "ALA3.drop([\"short_name\"] , axis=1, inplace=True)\n",
    "ALA3.drop([\"overall\"] , axis=1, inplace=True)\n",
    "ESP3.drop([\"short_name\"] , axis=1, inplace=True)\n",
    "ESP3.drop([\"overall\"] , axis=1, inplace=True)\n",
    "ELC3.drop([\"short_name\"] , axis=1, inplace=True)\n",
    "ELC3.drop([\"overall\"] , axis=1, inplace=True)\n",
    "OSA3.drop([\"short_name\"] , axis=1, inplace=True)\n",
    "OSA3.drop([\"overall\"] , axis=1, inplace=True)\n",
    "CAD3.drop([\"short_name\"] , axis=1, inplace=True)\n",
    "CAD3.drop([\"overall\"] , axis=1, inplace=True)\n",
    "RYV3.drop([\"short_name\"] , axis=1, inplace=True)\n",
    "RYV3.drop([\"overall\"] , axis=1, inplace=True)\n",
    "MAL3.drop([\"short_name\"] , axis=1, inplace=True)\n",
    "MAL3.drop([\"overall\"] , axis=1, inplace=True)"
   ]
  },
  {
   "cell_type": "code",
   "execution_count": 45,
   "id": "427b1eb9",
   "metadata": {},
   "outputs": [
    {
     "data": {
      "text/html": [
       "<div>\n",
       "<style scoped>\n",
       "    .dataframe tbody tr th:only-of-type {\n",
       "        vertical-align: middle;\n",
       "    }\n",
       "\n",
       "    .dataframe tbody tr th {\n",
       "        vertical-align: top;\n",
       "    }\n",
       "\n",
       "    .dataframe thead th {\n",
       "        text-align: right;\n",
       "    }\n",
       "</style>\n",
       "<table border=\"1\" class=\"dataframe\">\n",
       "  <thead>\n",
       "    <tr style=\"text-align: right;\">\n",
       "      <th></th>\n",
       "      <th>club_name</th>\n",
       "      <th>average</th>\n",
       "    </tr>\n",
       "  </thead>\n",
       "  <tbody>\n",
       "    <tr>\n",
       "      <th>11</th>\n",
       "      <td>RMD</td>\n",
       "      <td>85.909091</td>\n",
       "    </tr>\n",
       "  </tbody>\n",
       "</table>\n",
       "</div>"
      ],
      "text/plain": [
       "   club_name    average\n",
       "11       RMD  85.909091"
      ]
     },
     "execution_count": 45,
     "metadata": {},
     "output_type": "execute_result"
    }
   ],
   "source": [
    "RMD3"
   ]
  },
  {
   "cell_type": "code",
   "execution_count": 70,
   "id": "c10b1507",
   "metadata": {},
   "outputs": [],
   "source": [
    "# Juntamos todos los equipos\n",
    "equipos = pd.concat([RMD3, ATM3, FCB3, SEV3, VIL3, RSO3, RYV3, CEL3, BET3, ATH3, VAL3, LEV3, GRA3, GET3, ALA3, ESP3, ELC3, OSA3, CAD3, MAL3])"
   ]
  },
  {
   "cell_type": "code",
   "execution_count": 71,
   "id": "0f0063f5",
   "metadata": {},
   "outputs": [
    {
     "data": {
      "text/html": [
       "<div>\n",
       "<style scoped>\n",
       "    .dataframe tbody tr th:only-of-type {\n",
       "        vertical-align: middle;\n",
       "    }\n",
       "\n",
       "    .dataframe tbody tr th {\n",
       "        vertical-align: top;\n",
       "    }\n",
       "\n",
       "    .dataframe thead th {\n",
       "        text-align: right;\n",
       "    }\n",
       "</style>\n",
       "<table border=\"1\" class=\"dataframe\">\n",
       "  <thead>\n",
       "    <tr style=\"text-align: right;\">\n",
       "      <th></th>\n",
       "      <th>Equipo</th>\n",
       "      <th>Media_FIFA</th>\n",
       "    </tr>\n",
       "  </thead>\n",
       "  <tbody>\n",
       "    <tr>\n",
       "      <th>11</th>\n",
       "      <td>RMD</td>\n",
       "      <td>85.909091</td>\n",
       "    </tr>\n",
       "    <tr>\n",
       "      <th>5</th>\n",
       "      <td>ATM</td>\n",
       "      <td>85.272727</td>\n",
       "    </tr>\n",
       "    <tr>\n",
       "      <th>8</th>\n",
       "      <td>FCB</td>\n",
       "      <td>84.909091</td>\n",
       "    </tr>\n",
       "    <tr>\n",
       "      <th>69</th>\n",
       "      <td>SEV</td>\n",
       "      <td>83.000000</td>\n",
       "    </tr>\n",
       "    <tr>\n",
       "      <th>53</th>\n",
       "      <td>VIL</td>\n",
       "      <td>81.636364</td>\n",
       "    </tr>\n",
       "  </tbody>\n",
       "</table>\n",
       "</div>"
      ],
      "text/plain": [
       "   Equipo  Media_FIFA\n",
       "11    RMD   85.909091\n",
       "5     ATM   85.272727\n",
       "8     FCB   84.909091\n",
       "69    SEV   83.000000\n",
       "53    VIL   81.636364"
      ]
     },
     "execution_count": 71,
     "metadata": {},
     "output_type": "execute_result"
    }
   ],
   "source": [
    "# Cambiamos el nombre a la columnas, para que coincida el nombre con la tabla de la clasificación\n",
    "equipos = equipos.rename(columns={'club_name': 'Equipo', 'average': 'Media_FIFA'})\n",
    "equipos.head()"
   ]
  },
  {
   "cell_type": "code",
   "execution_count": 53,
   "id": "c58027cf",
   "metadata": {},
   "outputs": [],
   "source": [
    "equipos.to_csv(r'equipos.csv', index = False)"
   ]
  },
  {
   "cell_type": "code",
   "execution_count": null,
   "id": "101a4fbf",
   "metadata": {},
   "outputs": [],
   "source": []
  },
  {
   "cell_type": "code",
   "execution_count": null,
   "id": "c8cc6c79",
   "metadata": {},
   "outputs": [],
   "source": []
  },
  {
   "cell_type": "code",
   "execution_count": 72,
   "id": "66cf39dc",
   "metadata": {},
   "outputs": [
    {
     "data": {
      "text/html": [
       "<div>\n",
       "<style scoped>\n",
       "    .dataframe tbody tr th:only-of-type {\n",
       "        vertical-align: middle;\n",
       "    }\n",
       "\n",
       "    .dataframe tbody tr th {\n",
       "        vertical-align: top;\n",
       "    }\n",
       "\n",
       "    .dataframe thead th {\n",
       "        text-align: right;\n",
       "    }\n",
       "</style>\n",
       "<table border=\"1\" class=\"dataframe\">\n",
       "  <thead>\n",
       "    <tr style=\"text-align: right;\">\n",
       "      <th></th>\n",
       "      <th>Equipo</th>\n",
       "      <th>Puntos</th>\n",
       "      <th>Media_FIFA</th>\n",
       "    </tr>\n",
       "  </thead>\n",
       "  <tbody>\n",
       "    <tr>\n",
       "      <th>15</th>\n",
       "      <td>CAD</td>\n",
       "      <td>12</td>\n",
       "      <td>75.181818</td>\n",
       "    </tr>\n",
       "    <tr>\n",
       "      <th>16</th>\n",
       "      <td>GRA</td>\n",
       "      <td>11</td>\n",
       "      <td>78.363636</td>\n",
       "    </tr>\n",
       "    <tr>\n",
       "      <th>17</th>\n",
       "      <td>ELC</td>\n",
       "      <td>10</td>\n",
       "      <td>75.909091</td>\n",
       "    </tr>\n",
       "    <tr>\n",
       "      <th>18</th>\n",
       "      <td>LEV</td>\n",
       "      <td>6</td>\n",
       "      <td>78.545455</td>\n",
       "    </tr>\n",
       "    <tr>\n",
       "      <th>19</th>\n",
       "      <td>GET</td>\n",
       "      <td>6</td>\n",
       "      <td>77.818182</td>\n",
       "    </tr>\n",
       "  </tbody>\n",
       "</table>\n",
       "</div>"
      ],
      "text/plain": [
       "   Equipo  Puntos  Media_FIFA\n",
       "15    CAD      12   75.181818\n",
       "16    GRA      11   78.363636\n",
       "17    ELC      10   75.909091\n",
       "18    LEV       6   78.545455\n",
       "19    GET       6   77.818182"
      ]
     },
     "execution_count": 72,
     "metadata": {},
     "output_type": "execute_result"
    }
   ],
   "source": [
    "# Juntamos la tabla de la media, con la tabla de la clasificación\n",
    "LaLiga = pd.merge(laliga, equipos, left_on='Equipo', right_on='Equipo')\n",
    "LaLiga.tail()"
   ]
  },
  {
   "cell_type": "code",
   "execution_count": 73,
   "id": "83bc08fb",
   "metadata": {},
   "outputs": [
    {
     "data": {
      "text/html": [
       "<div>\n",
       "<style scoped>\n",
       "    .dataframe tbody tr th:only-of-type {\n",
       "        vertical-align: middle;\n",
       "    }\n",
       "\n",
       "    .dataframe tbody tr th {\n",
       "        vertical-align: top;\n",
       "    }\n",
       "\n",
       "    .dataframe thead th {\n",
       "        text-align: right;\n",
       "    }\n",
       "</style>\n",
       "<table border=\"1\" class=\"dataframe\">\n",
       "  <thead>\n",
       "    <tr style=\"text-align: right;\">\n",
       "      <th></th>\n",
       "      <th>Puntos</th>\n",
       "      <th>Media_FIFA</th>\n",
       "    </tr>\n",
       "  </thead>\n",
       "  <tbody>\n",
       "    <tr>\n",
       "      <th>Puntos</th>\n",
       "      <td>1.000000</td>\n",
       "      <td>0.609572</td>\n",
       "    </tr>\n",
       "    <tr>\n",
       "      <th>Media_FIFA</th>\n",
       "      <td>0.609572</td>\n",
       "      <td>1.000000</td>\n",
       "    </tr>\n",
       "  </tbody>\n",
       "</table>\n",
       "</div>"
      ],
      "text/plain": [
       "              Puntos  Media_FIFA\n",
       "Puntos      1.000000    0.609572\n",
       "Media_FIFA  0.609572    1.000000"
      ]
     },
     "execution_count": 73,
     "metadata": {},
     "output_type": "execute_result"
    }
   ],
   "source": [
    "corr = LaLiga.corr()\n",
    "corr"
   ]
  },
  {
   "cell_type": "code",
   "execution_count": 74,
   "id": "76a81563",
   "metadata": {},
   "outputs": [],
   "source": [
    "sns.set({\"figure.figsize\":(20,10)})\n",
    "sns.set(font_scale = 1.15)"
   ]
  },
  {
   "cell_type": "code",
   "execution_count": 75,
   "id": "2c4e4684",
   "metadata": {},
   "outputs": [
    {
     "data": {
      "text/plain": [
       "[None, None]"
      ]
     },
     "execution_count": 75,
     "metadata": {},
     "output_type": "execute_result"
    },
    {
     "data": {
      "image/png": "[encoded data removed]",
      "text/plain": [
       "<Figure size 1440x720 with 1 Axes>"
      ]
     },
     "metadata": {},
     "output_type": "display_data"
    }
   ],
   "source": [
    "LL = sns.scatterplot(x=\"Media_FIFA\", y=\"Puntos\", hue=\"Equipo\", style=\"Equipo\", palette=\"deep\",data=LaLiga, s=400, legend=\"full\")\n",
    "plt.setp(LL.get_legend().get_texts(), fontsize='17')\n",
    "plt.setp(LL.get_legend().get_title(), fontsize='17')"
   ]
  },
  {
   "cell_type": "code",
   "execution_count": null,
   "id": "c7daed56",
   "metadata": {},
   "outputs": [],
   "source": []
  },
  {
   "cell_type": "code",
   "execution_count": null,
   "id": "d1ce21ae",
   "metadata": {},
   "outputs": [],
   "source": []
  }
 ],
 "metadata": {
  "kernelspec": {
   "display_name": "ironhack",
   "language": "python",
   "name": "ironhack"
  },
  "language_info": {
   "codemirror_mode": {
    "name": "ipython",
    "version": 3
   },
   "file_extension": ".py",
   "mimetype": "text/x-python",
   "name": "python",
   "nbconvert_exporter": "python",
   "pygments_lexer": "ipython3",
   "version": "3.8.5"
  }
 },
 "nbformat": 4,
 "nbformat_minor": 5
}
